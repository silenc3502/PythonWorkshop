{
 "cells": [
  {
   "cell_type": "code",
   "execution_count": 1,
   "metadata": {},
   "outputs": [],
   "source": [
    "# 베이스 - 디지털 신호 처리\n",
    "# CNN - FIR 필터(음성 분석)\n",
    "# RNN, LTSM - IIR 필터(음성 분석)\n",
    "# 피드백(IIR)을 준다는 개념은\n",
    "# 특정값을 찾아 수렴시키는 것이라 보면 된다.\n",
    "# 마이크로 펀딩 => FPGA"
   ]
  },
  {
   "cell_type": "code",
   "execution_count": 2,
   "metadata": {},
   "outputs": [],
   "source": [
    "# y(u, x) => ∂y / ∂u 혹은 ∂y / ∂x\n",
    "# y' = ∂y / ∂x * ∂x / ∂u"
   ]
  },
  {
   "cell_type": "code",
   "execution_count": 3,
   "metadata": {},
   "outputs": [],
   "source": [
    "import numpy as np\n",
    "import matplotlib.pyplot as plt\n",
    "import pandas as pd"
   ]
  },
  {
   "cell_type": "code",
   "execution_count": 6,
   "metadata": {},
   "outputs": [
    {
     "name": "stdout",
     "output_type": "stream",
     "text": [
      "AAPL_test.csv\t  Activity18.ipynb  Exercise28.ipynb\r\n",
      "AAPL_train.csv\t  Activity19.ipynb  MSFT_test.csv\r\n",
      "Activity17.ipynb  Exercise27.ipynb  MSFT_train.csv\r\n"
     ]
    }
   ],
   "source": [
    "!ls Applied-Deep-Learning-with-Keras/Lesson09"
   ]
  },
  {
   "cell_type": "code",
   "execution_count": 7,
   "metadata": {},
   "outputs": [
    {
     "data": {
      "text/html": [
       "<div>\n",
       "<style scoped>\n",
       "    .dataframe tbody tr th:only-of-type {\n",
       "        vertical-align: middle;\n",
       "    }\n",
       "\n",
       "    .dataframe tbody tr th {\n",
       "        vertical-align: top;\n",
       "    }\n",
       "\n",
       "    .dataframe thead th {\n",
       "        text-align: right;\n",
       "    }\n",
       "</style>\n",
       "<table border=\"1\" class=\"dataframe\">\n",
       "  <thead>\n",
       "    <tr style=\"text-align: right;\">\n",
       "      <th></th>\n",
       "      <th>Date</th>\n",
       "      <th>Open</th>\n",
       "      <th>High</th>\n",
       "      <th>Low</th>\n",
       "      <th>Close</th>\n",
       "      <th>Adj Close</th>\n",
       "      <th>Volume</th>\n",
       "    </tr>\n",
       "  </thead>\n",
       "  <tbody>\n",
       "    <tr>\n",
       "      <th>0</th>\n",
       "      <td>02-01-2014</td>\n",
       "      <td>79.382858</td>\n",
       "      <td>79.575714</td>\n",
       "      <td>78.860001</td>\n",
       "      <td>79.018570</td>\n",
       "      <td>66.964325</td>\n",
       "      <td>58671200</td>\n",
       "    </tr>\n",
       "    <tr>\n",
       "      <th>1</th>\n",
       "      <td>03-01-2014</td>\n",
       "      <td>78.980003</td>\n",
       "      <td>79.099998</td>\n",
       "      <td>77.204285</td>\n",
       "      <td>77.282860</td>\n",
       "      <td>65.493416</td>\n",
       "      <td>98116900</td>\n",
       "    </tr>\n",
       "    <tr>\n",
       "      <th>2</th>\n",
       "      <td>06-01-2014</td>\n",
       "      <td>76.778572</td>\n",
       "      <td>78.114288</td>\n",
       "      <td>76.228569</td>\n",
       "      <td>77.704285</td>\n",
       "      <td>65.850533</td>\n",
       "      <td>103152700</td>\n",
       "    </tr>\n",
       "    <tr>\n",
       "      <th>3</th>\n",
       "      <td>07-01-2014</td>\n",
       "      <td>77.760002</td>\n",
       "      <td>77.994286</td>\n",
       "      <td>76.845711</td>\n",
       "      <td>77.148575</td>\n",
       "      <td>65.379593</td>\n",
       "      <td>79302300</td>\n",
       "    </tr>\n",
       "    <tr>\n",
       "      <th>4</th>\n",
       "      <td>08-01-2014</td>\n",
       "      <td>76.972855</td>\n",
       "      <td>77.937141</td>\n",
       "      <td>76.955711</td>\n",
       "      <td>77.637146</td>\n",
       "      <td>65.793633</td>\n",
       "      <td>64632400</td>\n",
       "    </tr>\n",
       "  </tbody>\n",
       "</table>\n",
       "</div>"
      ],
      "text/plain": [
       "         Date       Open       High        Low      Close  Adj Close  \\\n",
       "0  02-01-2014  79.382858  79.575714  78.860001  79.018570  66.964325   \n",
       "1  03-01-2014  78.980003  79.099998  77.204285  77.282860  65.493416   \n",
       "2  06-01-2014  76.778572  78.114288  76.228569  77.704285  65.850533   \n",
       "3  07-01-2014  77.760002  77.994286  76.845711  77.148575  65.379593   \n",
       "4  08-01-2014  76.972855  77.937141  76.955711  77.637146  65.793633   \n",
       "\n",
       "      Volume  \n",
       "0   58671200  \n",
       "1   98116900  \n",
       "2  103152700  \n",
       "3   79302300  \n",
       "4   64632400  "
      ]
     },
     "execution_count": 7,
     "metadata": {},
     "output_type": "execute_result"
    }
   ],
   "source": [
    "trainSet = pd.read_csv(\n",
    "    'Applied-Deep-Learning-with-Keras' +\n",
    "    '/Lesson09/AAPL_train.csv'\n",
    ")\n",
    "trainSet.head()"
   ]
  },
  {
   "cell_type": "code",
   "execution_count": 8,
   "metadata": {},
   "outputs": [
    {
     "data": {
      "text/plain": [
       "array([[ 79.382858],\n",
       "       [ 78.980003],\n",
       "       [ 76.778572],\n",
       "       ...,\n",
       "       [155.839996],\n",
       "       [157.5     ],\n",
       "       [158.529999]])"
      ]
     },
     "execution_count": 8,
     "metadata": {},
     "output_type": "execute_result"
    }
   ],
   "source": [
    "trainSet = trainSet.iloc[:, 1:2].values\n",
    "trainSet"
   ]
  },
  {
   "cell_type": "code",
   "execution_count": 9,
   "metadata": {},
   "outputs": [],
   "source": [
    "from sklearn.preprocessing import MinMaxScaler"
   ]
  },
  {
   "cell_type": "code",
   "execution_count": 10,
   "metadata": {},
   "outputs": [
    {
     "data": {
      "text/plain": [
       "array([[0.05400437],\n",
       "       [0.05148716],\n",
       "       [0.03773165],\n",
       "       ...,\n",
       "       [0.53174205],\n",
       "       [0.54211448],\n",
       "       [0.54855037]])"
      ]
     },
     "execution_count": 10,
     "metadata": {},
     "output_type": "execute_result"
    }
   ],
   "source": [
    "sc = MinMaxScaler(feature_range = (0, 1))\n",
    "trainSetScaled = sc.fit_transform(trainSet)\n",
    "trainSetScaled"
   ]
  },
  {
   "cell_type": "code",
   "execution_count": 11,
   "metadata": {},
   "outputs": [],
   "source": [
    "X_train = []\n",
    "y_train = []\n",
    "\n",
    "for i in range(60, 1258):\n",
    "    X_train.append(trainSetScaled[i - 60:i, 0])\n",
    "    y_train.append(trainSetScaled[i, 0])\n",
    "    \n",
    "X_train = np.array(X_train)\n",
    "y_train = np.array(y_train)"
   ]
  },
  {
   "cell_type": "code",
   "execution_count": 12,
   "metadata": {},
   "outputs": [
    {
     "data": {
      "text/plain": [
       "array([[[0.05400437],\n",
       "        [0.05148716],\n",
       "        [0.03773165],\n",
       "        ...,\n",
       "        [0.04582785],\n",
       "        [0.04002572],\n",
       "        [0.03850823]],\n",
       "\n",
       "       [[0.05148716],\n",
       "        [0.03773165],\n",
       "        [0.04386406],\n",
       "        ...,\n",
       "        [0.04002572],\n",
       "        [0.03850823],\n",
       "        [0.03932056]],\n",
       "\n",
       "       [[0.03773165],\n",
       "        [0.04386406],\n",
       "        [0.03894562],\n",
       "        ...,\n",
       "        [0.03850823],\n",
       "        [0.03932056],\n",
       "        [0.03800839]],\n",
       "\n",
       "       ...,\n",
       "\n",
       "       [[0.98231691],\n",
       "        [0.97794302],\n",
       "        [0.99543867],\n",
       "        ...,\n",
       "        [0.53811549],\n",
       "        [0.48369155],\n",
       "        [0.48462887]],\n",
       "\n",
       "       [[0.97794302],\n",
       "        [0.99543867],\n",
       "        [1.        ],\n",
       "        ...,\n",
       "        [0.48369155],\n",
       "        [0.48462887],\n",
       "        [0.53174205]],\n",
       "\n",
       "       [[0.99543867],\n",
       "        [1.        ],\n",
       "        [0.98237946],\n",
       "        ...,\n",
       "        [0.48462887],\n",
       "        [0.53174205],\n",
       "        [0.54211448]]])"
      ]
     },
     "execution_count": 12,
     "metadata": {},
     "output_type": "execute_result"
    }
   ],
   "source": [
    "X_train = np.reshape(\n",
    "    X_train, \n",
    "    (X_train.shape[0], X_train.shape[1], 1)\n",
    ")\n",
    "X_train"
   ]
  },
  {
   "cell_type": "code",
   "execution_count": 14,
   "metadata": {},
   "outputs": [],
   "source": [
    "from keras.models import Sequential\n",
    "from keras.layers import Dense, LSTM, Dropout"
   ]
  },
  {
   "cell_type": "code",
   "execution_count": 15,
   "metadata": {},
   "outputs": [],
   "source": [
    "model = Sequential()\n",
    "\n",
    "model.add(\n",
    "    LSTM(\n",
    "        50, return_sequences = True, \n",
    "        input_shape = (X_train.shape[1], 1)\n",
    "    )\n",
    ")\n",
    "model.add(\n",
    "    LSTM(50, return_sequences = True)\n",
    ")\n",
    "model.add(\n",
    "    LSTM(50, return_sequences = True)\n",
    ")\n",
    "model.add(LSTM(50))\n",
    "model.add(Dense(1))"
   ]
  },
  {
   "cell_type": "code",
   "execution_count": null,
   "metadata": {},
   "outputs": [
    {
     "name": "stdout",
     "output_type": "stream",
     "text": [
      "Epoch 1/100\n",
      "38/38 [==============================] - 2s 51ms/step - loss: 0.0240\n",
      "Epoch 2/100\n",
      "38/38 [==============================] - 2s 47ms/step - loss: 0.0029\n",
      "Epoch 3/100\n",
      "38/38 [==============================] - 2s 47ms/step - loss: 0.0023\n",
      "Epoch 4/100\n",
      "38/38 [==============================] - 2s 46ms/step - loss: 0.0020\n",
      "Epoch 5/100\n",
      "38/38 [==============================] - 2s 47ms/step - loss: 0.0017\n",
      "Epoch 6/100\n",
      "38/38 [==============================] - 2s 47ms/step - loss: 0.0015\n",
      "Epoch 7/100\n",
      "38/38 [==============================] - 2s 47ms/step - loss: 0.0015\n",
      "Epoch 8/100\n",
      "38/38 [==============================] - 2s 46ms/step - loss: 0.0015\n",
      "Epoch 9/100\n",
      "38/38 [==============================] - 2s 47ms/step - loss: 0.0012\n",
      "Epoch 10/100\n",
      "38/38 [==============================] - 2s 46ms/step - loss: 0.0014\n",
      "Epoch 11/100\n",
      "38/38 [==============================] - 2s 47ms/step - loss: 0.0012\n",
      "Epoch 12/100\n",
      "38/38 [==============================] - 2s 47ms/step - loss: 0.0012\n",
      "Epoch 13/100\n",
      "38/38 [==============================] - 2s 46ms/step - loss: 0.0010\n",
      "Epoch 14/100\n",
      "38/38 [==============================] - 2s 47ms/step - loss: 0.0012\n",
      "Epoch 15/100\n",
      "38/38 [==============================] - 2s 46ms/step - loss: 0.0013\n",
      "Epoch 16/100\n",
      "38/38 [==============================] - 2s 46ms/step - loss: 0.0011\n",
      "Epoch 17/100\n",
      "38/38 [==============================] - 2s 46ms/step - loss: 9.7052e-04\n",
      "Epoch 18/100\n",
      "38/38 [==============================] - 2s 46ms/step - loss: 9.2036e-04\n",
      "Epoch 19/100\n",
      "38/38 [==============================] - 2s 46ms/step - loss: 8.8371e-04\n",
      "Epoch 20/100\n",
      "38/38 [==============================] - 2s 46ms/step - loss: 9.1716e-04\n",
      "Epoch 21/100\n",
      "38/38 [==============================] - 2s 45ms/step - loss: 8.9793e-04\n",
      "Epoch 22/100\n",
      "38/38 [==============================] - 2s 46ms/step - loss: 8.3011e-04\n",
      "Epoch 23/100\n",
      "38/38 [==============================] - 2s 46ms/step - loss: 7.9090e-04\n",
      "Epoch 24/100\n",
      "38/38 [==============================] - 2s 46ms/step - loss: 7.5610e-04\n",
      "Epoch 25/100\n",
      "38/38 [==============================] - 2s 46ms/step - loss: 9.1335e-04\n",
      "Epoch 26/100\n",
      "38/38 [==============================] - 2s 46ms/step - loss: 8.2047e-04\n",
      "Epoch 27/100\n",
      "38/38 [==============================] - 2s 46ms/step - loss: 6.8565e-04\n",
      "Epoch 28/100\n",
      "38/38 [==============================] - 2s 46ms/step - loss: 7.2795e-04\n",
      "Epoch 29/100\n",
      "38/38 [==============================] - 2s 46ms/step - loss: 9.9433e-04\n",
      "Epoch 30/100\n",
      "38/38 [==============================] - 2s 46ms/step - loss: 6.0167e-04\n",
      "Epoch 31/100\n",
      "38/38 [==============================] - 2s 46ms/step - loss: 6.6934e-04\n",
      "Epoch 32/100\n",
      "38/38 [==============================] - 2s 46ms/step - loss: 6.9403e-04\n",
      "Epoch 33/100\n",
      "38/38 [==============================] - 2s 46ms/step - loss: 5.7575e-04\n",
      "Epoch 34/100\n",
      "38/38 [==============================] - 2s 46ms/step - loss: 5.7461e-04\n",
      "Epoch 35/100\n",
      "38/38 [==============================] - 2s 46ms/step - loss: 6.6098e-04\n",
      "Epoch 36/100\n",
      "38/38 [==============================] - 2s 46ms/step - loss: 6.4031e-04\n",
      "Epoch 37/100\n",
      "38/38 [==============================] - 2s 46ms/step - loss: 5.2489e-04\n",
      "Epoch 38/100\n",
      "38/38 [==============================] - 2s 46ms/step - loss: 4.7058e-04\n",
      "Epoch 39/100\n",
      "38/38 [==============================] - 2s 46ms/step - loss: 5.3414e-04\n",
      "Epoch 40/100\n",
      "38/38 [==============================] - 2s 46ms/step - loss: 4.6045e-04\n",
      "Epoch 41/100\n",
      "38/38 [==============================] - 2s 46ms/step - loss: 4.2858e-04\n",
      "Epoch 42/100\n",
      "38/38 [==============================] - 2s 46ms/step - loss: 4.0910e-04\n",
      "Epoch 43/100\n",
      "38/38 [==============================] - 2s 46ms/step - loss: 3.9255e-04\n",
      "Epoch 44/100\n",
      "38/38 [==============================] - 2s 46ms/step - loss: 4.0803e-04\n",
      "Epoch 45/100\n",
      "38/38 [==============================] - 2s 46ms/step - loss: 6.0340e-04\n",
      "Epoch 46/100\n",
      "38/38 [==============================] - 2s 46ms/step - loss: 5.6463e-04\n",
      "Epoch 47/100\n",
      "38/38 [==============================] - 2s 46ms/step - loss: 4.5967e-04\n",
      "Epoch 48/100\n",
      "38/38 [==============================] - 2s 46ms/step - loss: 3.6834e-04\n",
      "Epoch 49/100\n",
      "38/38 [==============================] - 2s 45ms/step - loss: 3.7923e-04\n",
      "Epoch 50/100\n",
      "38/38 [==============================] - 2s 45ms/step - loss: 3.7352e-04\n",
      "Epoch 51/100\n",
      "38/38 [==============================] - 2s 46ms/step - loss: 3.4488e-04\n",
      "Epoch 52/100\n",
      "38/38 [==============================] - 2s 46ms/step - loss: 3.8943e-04\n",
      "Epoch 53/100\n",
      "38/38 [==============================] - 2s 46ms/step - loss: 6.6831e-04\n",
      "Epoch 54/100\n",
      "38/38 [==============================] - 2s 46ms/step - loss: 4.2398e-04\n",
      "Epoch 55/100\n",
      "38/38 [==============================] - 2s 46ms/step - loss: 3.4130e-04\n",
      "Epoch 56/100\n",
      "38/38 [==============================] - 2s 46ms/step - loss: 3.9820e-04\n",
      "Epoch 57/100\n",
      "38/38 [==============================] - 2s 46ms/step - loss: 3.4868e-04\n",
      "Epoch 58/100\n",
      "38/38 [==============================] - 2s 46ms/step - loss: 3.1837e-04\n",
      "Epoch 59/100\n",
      "38/38 [==============================] - 2s 46ms/step - loss: 3.3916e-04\n",
      "Epoch 60/100\n",
      "38/38 [==============================] - 2s 46ms/step - loss: 3.3378e-04\n",
      "Epoch 61/100\n",
      "38/38 [==============================] - 2s 46ms/step - loss: 3.1138e-04\n",
      "Epoch 62/100\n",
      "38/38 [==============================] - 2s 46ms/step - loss: 4.4006e-04\n",
      "Epoch 63/100\n",
      "38/38 [==============================] - 2s 46ms/step - loss: 3.4284e-04\n",
      "Epoch 64/100\n",
      "38/38 [==============================] - 2s 46ms/step - loss: 3.7713e-04\n",
      "Epoch 65/100\n",
      "38/38 [==============================] - 2s 46ms/step - loss: 3.0335e-04\n",
      "Epoch 66/100\n",
      "38/38 [==============================] - 2s 46ms/step - loss: 2.7645e-04\n",
      "Epoch 67/100\n",
      "38/38 [==============================] - 2s 46ms/step - loss: 2.7855e-04\n",
      "Epoch 68/100\n",
      "38/38 [==============================] - 2s 46ms/step - loss: 2.6568e-04\n",
      "Epoch 69/100\n",
      "38/38 [==============================] - 2s 46ms/step - loss: 2.8220e-04\n",
      "Epoch 70/100\n",
      "38/38 [==============================] - 2s 46ms/step - loss: 2.8345e-04\n",
      "Epoch 71/100\n",
      "38/38 [==============================] - 2s 46ms/step - loss: 2.9600e-04\n",
      "Epoch 72/100\n",
      "38/38 [==============================] - 2s 46ms/step - loss: 3.3938e-04\n",
      "Epoch 73/100\n",
      "10/38 [======>.......................] - ETA: 1s - loss: 3.6594e-04"
     ]
    }
   ],
   "source": [
    "model.compile(\n",
    "    optimizer = 'adam',\n",
    "    loss = 'mean_squared_error'\n",
    ")\n",
    "model.fit(\n",
    "    X_train, y_train, epochs = 100, batch_size = 32\n",
    ")"
   ]
  },
  {
   "cell_type": "code",
   "execution_count": null,
   "metadata": {},
   "outputs": [],
   "source": []
  }
 ],
 "metadata": {
  "kernelspec": {
   "display_name": "Python 3",
   "language": "python",
   "name": "python3"
  },
  "language_info": {
   "codemirror_mode": {
    "name": "ipython",
    "version": 3
   },
   "file_extension": ".py",
   "mimetype": "text/x-python",
   "name": "python",
   "nbconvert_exporter": "python",
   "pygments_lexer": "ipython3",
   "version": "3.7.6"
  }
 },
 "nbformat": 4,
 "nbformat_minor": 4
}
