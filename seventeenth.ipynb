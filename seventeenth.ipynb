{
 "cells": [
  {
   "cell_type": "code",
   "execution_count": 1,
   "metadata": {},
   "outputs": [],
   "source": [
    "# 베이스 - 디지털 신호 처리\n",
    "# CNN - FIR 필터(음성 분석)\n",
    "# RNN, LTSM - IIR 필터(음성 분석)\n",
    "# 피드백(IIR)을 준다는 개념은\n",
    "# 특정값을 찾아 수렴시키는 것이라 보면 된다.\n",
    "# 마이크로 펀딩 => FPGA"
   ]
  },
  {
   "cell_type": "code",
   "execution_count": 2,
   "metadata": {},
   "outputs": [],
   "source": [
    "# y(u, x) => ∂y / ∂u 혹은 ∂y / ∂x\n",
    "# y' = ∂y / ∂x * ∂x / ∂u"
   ]
  },
  {
   "cell_type": "code",
   "execution_count": 3,
   "metadata": {},
   "outputs": [],
   "source": [
    "import numpy as np\n",
    "import matplotlib.pyplot as plt\n",
    "import pandas as pd"
   ]
  },
  {
   "cell_type": "code",
   "execution_count": 6,
   "metadata": {},
   "outputs": [
    {
     "name": "stdout",
     "output_type": "stream",
     "text": [
      "AAPL_test.csv\t  Activity18.ipynb  Exercise28.ipynb\r\n",
      "AAPL_train.csv\t  Activity19.ipynb  MSFT_test.csv\r\n",
      "Activity17.ipynb  Exercise27.ipynb  MSFT_train.csv\r\n"
     ]
    }
   ],
   "source": [
    "!ls Applied-Deep-Learning-with-Keras/Lesson09"
   ]
  },
  {
   "cell_type": "code",
   "execution_count": 32,
   "metadata": {},
   "outputs": [
    {
     "data": {
      "text/html": [
       "<div>\n",
       "<style scoped>\n",
       "    .dataframe tbody tr th:only-of-type {\n",
       "        vertical-align: middle;\n",
       "    }\n",
       "\n",
       "    .dataframe tbody tr th {\n",
       "        vertical-align: top;\n",
       "    }\n",
       "\n",
       "    .dataframe thead th {\n",
       "        text-align: right;\n",
       "    }\n",
       "</style>\n",
       "<table border=\"1\" class=\"dataframe\">\n",
       "  <thead>\n",
       "    <tr style=\"text-align: right;\">\n",
       "      <th></th>\n",
       "      <th>Date</th>\n",
       "      <th>Open</th>\n",
       "      <th>High</th>\n",
       "      <th>Low</th>\n",
       "      <th>Close</th>\n",
       "      <th>Adj Close</th>\n",
       "      <th>Volume</th>\n",
       "    </tr>\n",
       "  </thead>\n",
       "  <tbody>\n",
       "    <tr>\n",
       "      <th>0</th>\n",
       "      <td>02-01-2014</td>\n",
       "      <td>79.382858</td>\n",
       "      <td>79.575714</td>\n",
       "      <td>78.860001</td>\n",
       "      <td>79.018570</td>\n",
       "      <td>66.964325</td>\n",
       "      <td>58671200</td>\n",
       "    </tr>\n",
       "    <tr>\n",
       "      <th>1</th>\n",
       "      <td>03-01-2014</td>\n",
       "      <td>78.980003</td>\n",
       "      <td>79.099998</td>\n",
       "      <td>77.204285</td>\n",
       "      <td>77.282860</td>\n",
       "      <td>65.493416</td>\n",
       "      <td>98116900</td>\n",
       "    </tr>\n",
       "    <tr>\n",
       "      <th>2</th>\n",
       "      <td>06-01-2014</td>\n",
       "      <td>76.778572</td>\n",
       "      <td>78.114288</td>\n",
       "      <td>76.228569</td>\n",
       "      <td>77.704285</td>\n",
       "      <td>65.850533</td>\n",
       "      <td>103152700</td>\n",
       "    </tr>\n",
       "    <tr>\n",
       "      <th>3</th>\n",
       "      <td>07-01-2014</td>\n",
       "      <td>77.760002</td>\n",
       "      <td>77.994286</td>\n",
       "      <td>76.845711</td>\n",
       "      <td>77.148575</td>\n",
       "      <td>65.379593</td>\n",
       "      <td>79302300</td>\n",
       "    </tr>\n",
       "    <tr>\n",
       "      <th>4</th>\n",
       "      <td>08-01-2014</td>\n",
       "      <td>76.972855</td>\n",
       "      <td>77.937141</td>\n",
       "      <td>76.955711</td>\n",
       "      <td>77.637146</td>\n",
       "      <td>65.793633</td>\n",
       "      <td>64632400</td>\n",
       "    </tr>\n",
       "  </tbody>\n",
       "</table>\n",
       "</div>"
      ],
      "text/plain": [
       "         Date       Open       High        Low      Close  Adj Close  \\\n",
       "0  02-01-2014  79.382858  79.575714  78.860001  79.018570  66.964325   \n",
       "1  03-01-2014  78.980003  79.099998  77.204285  77.282860  65.493416   \n",
       "2  06-01-2014  76.778572  78.114288  76.228569  77.704285  65.850533   \n",
       "3  07-01-2014  77.760002  77.994286  76.845711  77.148575  65.379593   \n",
       "4  08-01-2014  76.972855  77.937141  76.955711  77.637146  65.793633   \n",
       "\n",
       "      Volume  \n",
       "0   58671200  \n",
       "1   98116900  \n",
       "2  103152700  \n",
       "3   79302300  \n",
       "4   64632400  "
      ]
     },
     "execution_count": 32,
     "metadata": {},
     "output_type": "execute_result"
    }
   ],
   "source": [
    "trainSet = pd.read_csv(\n",
    "    'Applied-Deep-Learning-with-Keras' +\n",
    "    '/Lesson09/AAPL_train.csv'\n",
    ")\n",
    "trainSet.head()"
   ]
  },
  {
   "cell_type": "code",
   "execution_count": 33,
   "metadata": {},
   "outputs": [
    {
     "data": {
      "text/plain": [
       "array([[ 79.382858],\n",
       "       [ 78.980003],\n",
       "       [ 76.778572],\n",
       "       ...,\n",
       "       [155.839996],\n",
       "       [157.5     ],\n",
       "       [158.529999]])"
      ]
     },
     "execution_count": 33,
     "metadata": {},
     "output_type": "execute_result"
    }
   ],
   "source": [
    "trainSetOpen = trainSet.iloc[:, 1:2].values\n",
    "trainSetOpen"
   ]
  },
  {
   "cell_type": "code",
   "execution_count": 9,
   "metadata": {},
   "outputs": [],
   "source": [
    "from sklearn.preprocessing import MinMaxScaler"
   ]
  },
  {
   "cell_type": "code",
   "execution_count": 10,
   "metadata": {},
   "outputs": [
    {
     "data": {
      "text/plain": [
       "array([[0.05400437],\n",
       "       [0.05148716],\n",
       "       [0.03773165],\n",
       "       ...,\n",
       "       [0.53174205],\n",
       "       [0.54211448],\n",
       "       [0.54855037]])"
      ]
     },
     "execution_count": 10,
     "metadata": {},
     "output_type": "execute_result"
    }
   ],
   "source": [
    "sc = MinMaxScaler(feature_range = (0, 1))\n",
    "trainSetScaled = sc.fit_transform(trainSetOpen)\n",
    "trainSetScaled"
   ]
  },
  {
   "cell_type": "code",
   "execution_count": 20,
   "metadata": {},
   "outputs": [],
   "source": [
    "X_train = []\n",
    "y_train = []\n",
    "\n",
    "for i in range(60, 1258):\n",
    "    X_train.append(trainSetScaled[i - 60:i, 0])\n",
    "    y_train.append(trainSetScaled[i, 0])\n",
    "    \n",
    "X_train, y_train = np.array(X_train), np.array(y_train)"
   ]
  },
  {
   "cell_type": "code",
   "execution_count": 21,
   "metadata": {
    "scrolled": true
   },
   "outputs": [
    {
     "data": {
      "text/plain": [
       "array([[[0.05400437],\n",
       "        [0.05148716],\n",
       "        [0.03773165],\n",
       "        ...,\n",
       "        [0.04582785],\n",
       "        [0.04002572],\n",
       "        [0.03850823]],\n",
       "\n",
       "       [[0.05148716],\n",
       "        [0.03773165],\n",
       "        [0.04386406],\n",
       "        ...,\n",
       "        [0.04002572],\n",
       "        [0.03850823],\n",
       "        [0.03932056]],\n",
       "\n",
       "       [[0.03773165],\n",
       "        [0.04386406],\n",
       "        [0.03894562],\n",
       "        ...,\n",
       "        [0.03850823],\n",
       "        [0.03932056],\n",
       "        [0.03800839]],\n",
       "\n",
       "       ...,\n",
       "\n",
       "       [[0.98231691],\n",
       "        [0.97794302],\n",
       "        [0.99543867],\n",
       "        ...,\n",
       "        [0.53811549],\n",
       "        [0.48369155],\n",
       "        [0.48462887]],\n",
       "\n",
       "       [[0.97794302],\n",
       "        [0.99543867],\n",
       "        [1.        ],\n",
       "        ...,\n",
       "        [0.48369155],\n",
       "        [0.48462887],\n",
       "        [0.53174205]],\n",
       "\n",
       "       [[0.99543867],\n",
       "        [1.        ],\n",
       "        [0.98237946],\n",
       "        ...,\n",
       "        [0.48462887],\n",
       "        [0.53174205],\n",
       "        [0.54211448]]])"
      ]
     },
     "execution_count": 21,
     "metadata": {},
     "output_type": "execute_result"
    }
   ],
   "source": [
    "X_train = np.reshape(\n",
    "    X_train, \n",
    "    (X_train.shape[0], X_train.shape[1], 1)\n",
    ")\n",
    "X_train"
   ]
  },
  {
   "cell_type": "code",
   "execution_count": 22,
   "metadata": {},
   "outputs": [],
   "source": [
    "from keras.models import Sequential\n",
    "from keras.layers import Dense, LSTM, Dropout"
   ]
  },
  {
   "cell_type": "code",
   "execution_count": 23,
   "metadata": {},
   "outputs": [],
   "source": [
    "model = Sequential()\n",
    "\n",
    "model.add(\n",
    "    LSTM(\n",
    "        50, return_sequences = True, \n",
    "        input_shape = (X_train.shape[1], 1)\n",
    "    )\n",
    ")\n",
    "model.add(\n",
    "    LSTM(50, return_sequences = True)\n",
    ")\n",
    "model.add(\n",
    "    LSTM(50, return_sequences = True)\n",
    ")\n",
    "model.add(LSTM(50))\n",
    "model.add(Dense(1))"
   ]
  },
  {
   "cell_type": "code",
   "execution_count": 24,
   "metadata": {
    "scrolled": true
   },
   "outputs": [
    {
     "name": "stdout",
     "output_type": "stream",
     "text": [
      "Epoch 1/100\n",
      "38/38 [==============================] - 2s 52ms/step - loss: 0.0238\n",
      "Epoch 2/100\n",
      "38/38 [==============================] - 2s 49ms/step - loss: 0.0025\n",
      "Epoch 3/100\n",
      "38/38 [==============================] - 2s 48ms/step - loss: 0.0023\n",
      "Epoch 4/100\n",
      "38/38 [==============================] - 2s 48ms/step - loss: 0.0025\n",
      "Epoch 5/100\n",
      "38/38 [==============================] - 2s 48ms/step - loss: 0.0021\n",
      "Epoch 6/100\n",
      "38/38 [==============================] - 2s 48ms/step - loss: 0.0016\n",
      "Epoch 7/100\n",
      "38/38 [==============================] - 2s 48ms/step - loss: 0.0014\n",
      "Epoch 8/100\n",
      "38/38 [==============================] - 2s 48ms/step - loss: 0.0013\n",
      "Epoch 9/100\n",
      "38/38 [==============================] - 2s 48ms/step - loss: 0.0012\n",
      "Epoch 10/100\n",
      "38/38 [==============================] - 2s 47ms/step - loss: 0.0014\n",
      "Epoch 11/100\n",
      "38/38 [==============================] - 2s 48ms/step - loss: 0.0011\n",
      "Epoch 12/100\n",
      "38/38 [==============================] - 2s 48ms/step - loss: 0.0011\n",
      "Epoch 13/100\n",
      "38/38 [==============================] - 2s 48ms/step - loss: 0.0011\n",
      "Epoch 14/100\n",
      "38/38 [==============================] - 2s 48ms/step - loss: 0.0011\n",
      "Epoch 15/100\n",
      "38/38 [==============================] - 2s 48ms/step - loss: 0.0011\n",
      "Epoch 16/100\n",
      "38/38 [==============================] - 2s 47ms/step - loss: 0.0010\n",
      "Epoch 17/100\n",
      "38/38 [==============================] - 2s 47ms/step - loss: 9.8504e-04\n",
      "Epoch 18/100\n",
      "38/38 [==============================] - 2s 48ms/step - loss: 9.7286e-04\n",
      "Epoch 19/100\n",
      "38/38 [==============================] - 2s 49ms/step - loss: 0.0011\n",
      "Epoch 20/100\n",
      "38/38 [==============================] - 2s 48ms/step - loss: 9.2844e-04\n",
      "Epoch 21/100\n",
      "38/38 [==============================] - 2s 48ms/step - loss: 8.9091e-04\n",
      "Epoch 22/100\n",
      "38/38 [==============================] - 2s 48ms/step - loss: 8.2912e-04\n",
      "Epoch 23/100\n",
      "38/38 [==============================] - 2s 48ms/step - loss: 8.0235e-04\n",
      "Epoch 24/100\n",
      "38/38 [==============================] - 2s 48ms/step - loss: 8.0027e-04\n",
      "Epoch 25/100\n",
      "38/38 [==============================] - 2s 48ms/step - loss: 6.3237e-04\n",
      "Epoch 26/100\n",
      "38/38 [==============================] - 2s 49ms/step - loss: 6.9098e-04\n",
      "Epoch 27/100\n",
      "38/38 [==============================] - 2s 50ms/step - loss: 6.2826e-04\n",
      "Epoch 28/100\n",
      "38/38 [==============================] - 2s 48ms/step - loss: 6.4008e-04\n",
      "Epoch 29/100\n",
      "38/38 [==============================] - 2s 48ms/step - loss: 5.6248e-04\n",
      "Epoch 30/100\n",
      "38/38 [==============================] - 2s 48ms/step - loss: 5.8363e-04\n",
      "Epoch 31/100\n",
      "38/38 [==============================] - 2s 48ms/step - loss: 5.3247e-04\n",
      "Epoch 32/100\n",
      "38/38 [==============================] - 2s 48ms/step - loss: 4.7365e-04\n",
      "Epoch 33/100\n",
      "38/38 [==============================] - 2s 48ms/step - loss: 4.7797e-04\n",
      "Epoch 34/100\n",
      "38/38 [==============================] - 2s 48ms/step - loss: 4.8213e-04\n",
      "Epoch 35/100\n",
      "38/38 [==============================] - 2s 47ms/step - loss: 5.7526e-04\n",
      "Epoch 36/100\n",
      "38/38 [==============================] - 2s 48ms/step - loss: 4.3132e-04\n",
      "Epoch 37/100\n",
      "38/38 [==============================] - 2s 48ms/step - loss: 4.7232e-04\n",
      "Epoch 38/100\n",
      "38/38 [==============================] - 2s 48ms/step - loss: 4.9246e-04\n",
      "Epoch 39/100\n",
      "38/38 [==============================] - 2s 49ms/step - loss: 4.1292e-04\n",
      "Epoch 40/100\n",
      "38/38 [==============================] - 2s 49ms/step - loss: 4.0555e-04\n",
      "Epoch 41/100\n",
      "38/38 [==============================] - 2s 48ms/step - loss: 4.2946e-04\n",
      "Epoch 42/100\n",
      "38/38 [==============================] - 2s 48ms/step - loss: 4.5050e-04\n",
      "Epoch 43/100\n",
      "38/38 [==============================] - 2s 48ms/step - loss: 5.7540e-04\n",
      "Epoch 44/100\n",
      "38/38 [==============================] - 2s 48ms/step - loss: 4.4260e-04\n",
      "Epoch 45/100\n",
      "38/38 [==============================] - 2s 48ms/step - loss: 6.8520e-04\n",
      "Epoch 46/100\n",
      "38/38 [==============================] - 2s 49ms/step - loss: 3.4804e-04\n",
      "Epoch 47/100\n",
      "38/38 [==============================] - 2s 49ms/step - loss: 3.5775e-04\n",
      "Epoch 48/100\n",
      "38/38 [==============================] - 2s 49ms/step - loss: 4.1352e-04\n",
      "Epoch 49/100\n",
      "38/38 [==============================] - 2s 49ms/step - loss: 3.4809e-04\n",
      "Epoch 50/100\n",
      "38/38 [==============================] - 2s 48ms/step - loss: 3.3396e-04\n",
      "Epoch 51/100\n",
      "38/38 [==============================] - 2s 48ms/step - loss: 3.3815e-04\n",
      "Epoch 52/100\n",
      "38/38 [==============================] - 2s 48ms/step - loss: 3.1393e-04\n",
      "Epoch 53/100\n",
      "38/38 [==============================] - 2s 49ms/step - loss: 3.2530e-04\n",
      "Epoch 54/100\n",
      "38/38 [==============================] - 2s 49ms/step - loss: 3.9786e-04\n",
      "Epoch 55/100\n",
      "38/38 [==============================] - 2s 48ms/step - loss: 3.4828e-04\n",
      "Epoch 56/100\n",
      "38/38 [==============================] - 2s 48ms/step - loss: 3.0457e-04\n",
      "Epoch 57/100\n",
      "38/38 [==============================] - 2s 48ms/step - loss: 3.4955e-04\n",
      "Epoch 58/100\n",
      "38/38 [==============================] - 2s 47ms/step - loss: 4.2683e-04\n",
      "Epoch 59/100\n",
      "38/38 [==============================] - 2s 48ms/step - loss: 3.2588e-04\n",
      "Epoch 60/100\n",
      "38/38 [==============================] - 2s 47ms/step - loss: 2.9338e-04\n",
      "Epoch 61/100\n",
      "38/38 [==============================] - 2s 47ms/step - loss: 2.9069e-04\n",
      "Epoch 62/100\n",
      "38/38 [==============================] - 2s 48ms/step - loss: 2.7571e-04\n",
      "Epoch 63/100\n",
      "38/38 [==============================] - 2s 49ms/step - loss: 2.8244e-04\n",
      "Epoch 64/100\n",
      "38/38 [==============================] - 2s 48ms/step - loss: 2.6562e-04\n",
      "Epoch 65/100\n",
      "38/38 [==============================] - 2s 48ms/step - loss: 3.2409e-04\n",
      "Epoch 66/100\n",
      "38/38 [==============================] - 2s 47ms/step - loss: 5.4489e-04\n",
      "Epoch 67/100\n",
      "38/38 [==============================] - 2s 48ms/step - loss: 2.8886e-04\n",
      "Epoch 68/100\n",
      "38/38 [==============================] - 2s 47ms/step - loss: 3.7127e-04\n",
      "Epoch 69/100\n",
      "38/38 [==============================] - 2s 47ms/step - loss: 2.5629e-04\n",
      "Epoch 70/100\n",
      "38/38 [==============================] - 2s 47ms/step - loss: 2.8037e-04\n",
      "Epoch 71/100\n",
      "38/38 [==============================] - 2s 47ms/step - loss: 3.7613e-04\n",
      "Epoch 72/100\n",
      "38/38 [==============================] - 2s 47ms/step - loss: 3.4707e-04\n",
      "Epoch 73/100\n",
      "38/38 [==============================] - 2s 49ms/step - loss: 2.9806e-04\n",
      "Epoch 74/100\n",
      "38/38 [==============================] - 2s 49ms/step - loss: 3.5059e-04\n",
      "Epoch 75/100\n",
      "38/38 [==============================] - 2s 49ms/step - loss: 2.9180e-04\n",
      "Epoch 76/100\n",
      "38/38 [==============================] - 2s 49ms/step - loss: 2.7285e-04\n",
      "Epoch 77/100\n",
      "38/38 [==============================] - 2s 49ms/step - loss: 2.6375e-04\n",
      "Epoch 78/100\n",
      "38/38 [==============================] - 2s 48ms/step - loss: 3.2268e-04\n",
      "Epoch 79/100\n",
      "38/38 [==============================] - 2s 48ms/step - loss: 2.7366e-04\n",
      "Epoch 80/100\n",
      "38/38 [==============================] - 2s 48ms/step - loss: 2.3806e-04\n",
      "Epoch 81/100\n",
      "38/38 [==============================] - 2s 48ms/step - loss: 2.7716e-04\n",
      "Epoch 82/100\n",
      "38/38 [==============================] - 2s 47ms/step - loss: 2.5446e-04\n",
      "Epoch 83/100\n",
      "38/38 [==============================] - 2s 47ms/step - loss: 2.8243e-04\n",
      "Epoch 84/100\n",
      "38/38 [==============================] - 2s 47ms/step - loss: 2.6013e-04\n",
      "Epoch 85/100\n",
      "38/38 [==============================] - 2s 49ms/step - loss: 3.5253e-04\n",
      "Epoch 86/100\n",
      "38/38 [==============================] - 2s 48ms/step - loss: 2.7238e-04\n",
      "Epoch 87/100\n",
      "38/38 [==============================] - 2s 47ms/step - loss: 2.6368e-04\n",
      "Epoch 88/100\n",
      "38/38 [==============================] - 2s 47ms/step - loss: 2.4040e-04\n",
      "Epoch 89/100\n",
      "38/38 [==============================] - 2s 49ms/step - loss: 2.5628e-04\n",
      "Epoch 90/100\n",
      "38/38 [==============================] - 2s 48ms/step - loss: 3.3452e-04\n",
      "Epoch 91/100\n",
      "38/38 [==============================] - 2s 47ms/step - loss: 2.8110e-04\n",
      "Epoch 92/100\n",
      "38/38 [==============================] - 2s 48ms/step - loss: 2.7227e-04\n",
      "Epoch 93/100\n",
      "38/38 [==============================] - 2s 47ms/step - loss: 2.7061e-04\n",
      "Epoch 94/100\n",
      "38/38 [==============================] - 2s 47ms/step - loss: 2.8614e-04\n",
      "Epoch 95/100\n",
      "38/38 [==============================] - 2s 47ms/step - loss: 3.6466e-04\n",
      "Epoch 96/100\n",
      "38/38 [==============================] - 2s 47ms/step - loss: 2.5971e-04\n",
      "Epoch 97/100\n",
      "38/38 [==============================] - 2s 47ms/step - loss: 2.5738e-04\n",
      "Epoch 98/100\n",
      "38/38 [==============================] - 2s 47ms/step - loss: 3.1516e-04\n",
      "Epoch 99/100\n",
      "38/38 [==============================] - 2s 50ms/step - loss: 2.8152e-04\n",
      "Epoch 100/100\n",
      "38/38 [==============================] - 2s 49ms/step - loss: 2.4591e-04\n"
     ]
    },
    {
     "data": {
      "text/plain": [
       "<tensorflow.python.keras.callbacks.History at 0x7f395c7b2ed0>"
      ]
     },
     "execution_count": 24,
     "metadata": {},
     "output_type": "execute_result"
    }
   ],
   "source": [
    "model.compile(\n",
    "    optimizer = 'adam',\n",
    "    loss = 'mean_squared_error'\n",
    ")\n",
    "model.fit(\n",
    "    X_train, y_train, epochs = 100, batch_size = 32\n",
    ")"
   ]
  },
  {
   "cell_type": "code",
   "execution_count": 25,
   "metadata": {},
   "outputs": [
    {
     "data": {
      "text/html": [
       "<div>\n",
       "<style scoped>\n",
       "    .dataframe tbody tr th:only-of-type {\n",
       "        vertical-align: middle;\n",
       "    }\n",
       "\n",
       "    .dataframe tbody tr th {\n",
       "        vertical-align: top;\n",
       "    }\n",
       "\n",
       "    .dataframe thead th {\n",
       "        text-align: right;\n",
       "    }\n",
       "</style>\n",
       "<table border=\"1\" class=\"dataframe\">\n",
       "  <thead>\n",
       "    <tr style=\"text-align: right;\">\n",
       "      <th></th>\n",
       "      <th>Date</th>\n",
       "      <th>Open</th>\n",
       "      <th>High</th>\n",
       "      <th>Low</th>\n",
       "      <th>Close</th>\n",
       "      <th>Adj Close</th>\n",
       "      <th>Volume</th>\n",
       "    </tr>\n",
       "  </thead>\n",
       "  <tbody>\n",
       "    <tr>\n",
       "      <th>0</th>\n",
       "      <td>02-01-2019</td>\n",
       "      <td>154.889999</td>\n",
       "      <td>158.850006</td>\n",
       "      <td>154.229996</td>\n",
       "      <td>157.919998</td>\n",
       "      <td>157.245605</td>\n",
       "      <td>37039700</td>\n",
       "    </tr>\n",
       "    <tr>\n",
       "      <th>1</th>\n",
       "      <td>03-01-2019</td>\n",
       "      <td>143.979996</td>\n",
       "      <td>145.720001</td>\n",
       "      <td>142.000000</td>\n",
       "      <td>142.190002</td>\n",
       "      <td>141.582779</td>\n",
       "      <td>91244100</td>\n",
       "    </tr>\n",
       "    <tr>\n",
       "      <th>2</th>\n",
       "      <td>04-01-2019</td>\n",
       "      <td>144.529999</td>\n",
       "      <td>148.550003</td>\n",
       "      <td>143.800003</td>\n",
       "      <td>148.259995</td>\n",
       "      <td>147.626846</td>\n",
       "      <td>58607100</td>\n",
       "    </tr>\n",
       "    <tr>\n",
       "      <th>3</th>\n",
       "      <td>07-01-2019</td>\n",
       "      <td>148.699997</td>\n",
       "      <td>148.830002</td>\n",
       "      <td>145.899994</td>\n",
       "      <td>147.929993</td>\n",
       "      <td>147.298264</td>\n",
       "      <td>54777800</td>\n",
       "    </tr>\n",
       "    <tr>\n",
       "      <th>4</th>\n",
       "      <td>08-01-2019</td>\n",
       "      <td>149.559998</td>\n",
       "      <td>151.820007</td>\n",
       "      <td>148.520004</td>\n",
       "      <td>150.750000</td>\n",
       "      <td>150.106216</td>\n",
       "      <td>41025300</td>\n",
       "    </tr>\n",
       "  </tbody>\n",
       "</table>\n",
       "</div>"
      ],
      "text/plain": [
       "         Date        Open        High         Low       Close   Adj Close  \\\n",
       "0  02-01-2019  154.889999  158.850006  154.229996  157.919998  157.245605   \n",
       "1  03-01-2019  143.979996  145.720001  142.000000  142.190002  141.582779   \n",
       "2  04-01-2019  144.529999  148.550003  143.800003  148.259995  147.626846   \n",
       "3  07-01-2019  148.699997  148.830002  145.899994  147.929993  147.298264   \n",
       "4  08-01-2019  149.559998  151.820007  148.520004  150.750000  150.106216   \n",
       "\n",
       "     Volume  \n",
       "0  37039700  \n",
       "1  91244100  \n",
       "2  58607100  \n",
       "3  54777800  \n",
       "4  41025300  "
      ]
     },
     "execution_count": 25,
     "metadata": {},
     "output_type": "execute_result"
    }
   ],
   "source": [
    "testSet = pd.read_csv(\n",
    "    'Applied-Deep-Learning-with-Keras' +\n",
    "    '/Lesson09/AAPL_test.csv'\n",
    ")\n",
    "testSet.head()"
   ]
  },
  {
   "cell_type": "code",
   "execution_count": 26,
   "metadata": {
    "scrolled": true
   },
   "outputs": [
    {
     "data": {
      "text/plain": [
       "array([[154.889999],\n",
       "       [143.979996],\n",
       "       [144.529999],\n",
       "       [148.699997],\n",
       "       [149.559998],\n",
       "       [151.289993],\n",
       "       [152.5     ],\n",
       "       [152.880005],\n",
       "       [150.850006],\n",
       "       [150.270004],\n",
       "       [153.080002],\n",
       "       [154.199997],\n",
       "       [157.5     ],\n",
       "       [156.410004],\n",
       "       [154.149994],\n",
       "       [154.110001],\n",
       "       [155.479996],\n",
       "       [155.789993],\n",
       "       [156.25    ],\n",
       "       [163.25    ],\n",
       "       [166.110001]])"
      ]
     },
     "execution_count": 26,
     "metadata": {},
     "output_type": "execute_result"
    }
   ],
   "source": [
    "actualStock = testSet.iloc[:, 1:2].values\n",
    "actualStock"
   ]
  },
  {
   "cell_type": "code",
   "execution_count": 35,
   "metadata": {},
   "outputs": [
    {
     "data": {
      "text/plain": [
       "0     154.889999\n",
       "1     143.979996\n",
       "2     144.529999\n",
       "3     148.699997\n",
       "4     149.559998\n",
       "5     151.289993\n",
       "6     152.500000\n",
       "7     152.880005\n",
       "8     150.850006\n",
       "9     150.270004\n",
       "10    153.080002\n",
       "11    154.199997\n",
       "12    157.500000\n",
       "13    156.410004\n",
       "14    154.149994\n",
       "15    154.110001\n",
       "16    155.479996\n",
       "17    155.789993\n",
       "18    156.250000\n",
       "19    163.250000\n",
       "20    166.110001\n",
       "Name: Open, dtype: float64"
      ]
     },
     "execution_count": 35,
     "metadata": {},
     "output_type": "execute_result"
    }
   ],
   "source": [
    "testSet['Open']"
   ]
  },
  {
   "cell_type": "code",
   "execution_count": 36,
   "metadata": {},
   "outputs": [
    {
     "data": {
      "text/plain": [
       "0        79.382858\n",
       "1        78.980003\n",
       "2        76.778572\n",
       "3        77.760002\n",
       "4        76.972855\n",
       "           ...    \n",
       "1253    148.149994\n",
       "1254    148.300003\n",
       "1255    155.839996\n",
       "1256    157.500000\n",
       "1257    158.529999\n",
       "Name: Open, Length: 1258, dtype: float64"
      ]
     },
     "execution_count": 36,
     "metadata": {},
     "output_type": "execute_result"
    }
   ],
   "source": [
    "trainSet['Open']"
   ]
  },
  {
   "cell_type": "code",
   "execution_count": 37,
   "metadata": {},
   "outputs": [],
   "source": [
    "total = pd.concat(\n",
    "    (trainSet['Open'], testSet['Open']),\n",
    "    axis = 0\n",
    ")"
   ]
  },
  {
   "cell_type": "code",
   "execution_count": 38,
   "metadata": {},
   "outputs": [],
   "source": [
    "inputs = total[len(total) - len(testSet) - 60:].values\n",
    "inputs = inputs.reshape(-1, 1)\n",
    "inputs = sc.transform(inputs)\n",
    "\n",
    "X_test = []\n",
    "for i in range(60, 81):\n",
    "    X_test.append(inputs[i - 60:i, 0])\n",
    "    \n",
    "X_test = np.array(X_test)\n",
    "X_test = np.reshape(\n",
    "    X_test, \n",
    "    (X_test.shape[0], X_test.shape[1], 1)\n",
    ")\n",
    "\n",
    "predictedStock = model.predict(X_test)\n",
    "predictedStock = sc.inverse_transform(predictedStock)"
   ]
  },
  {
   "cell_type": "code",
   "execution_count": 39,
   "metadata": {},
   "outputs": [
    {
     "data": {
      "image/png": "[encoded data removed]",
      "text/plain": [
       "<Figure size 432x288 with 1 Axes>"
      ]
     },
     "metadata": {
      "needs_background": "light"
     },
     "output_type": "display_data"
    }
   ],
   "source": [
    "plt.plot(\n",
    "    actualStock, color = 'green', \n",
    "    label = 'Real Apple Stock', ls='--'\n",
    ")\n",
    "plt.plot(\n",
    "    predictedStock, color = 'red', \n",
    "    label = 'Predicted Apple Stock', ls='-'\n",
    ")\n",
    "plt.title('Predicted Stock Price')\n",
    "plt.xlabel('Time in days')\n",
    "plt.ylabel('Real Stock Price')\n",
    "plt.legend()\n",
    "plt.show()\n",
    "# IIR 필터의 특성이 나타나고 있음\n",
    "# 위상이 뒤틀린다."
   ]
  },
  {
   "cell_type": "code",
   "execution_count": null,
   "metadata": {},
   "outputs": [],
   "source": []
  },
  {
   "cell_type": "code",
   "execution_count": null,
   "metadata": {},
   "outputs": [],
   "source": []
  },
  {
   "cell_type": "code",
   "execution_count": null,
   "metadata": {},
   "outputs": [],
   "source": []
  },
  {
   "cell_type": "code",
   "execution_count": null,
   "metadata": {},
   "outputs": [],
   "source": [
    "# 1. 새로운 터미널을 킨다.\n",
    "# 2. pip uninstall -y keras\n",
    "# 3. pip uninstall -y tensorflow\n",
    "# 4. pip uninstall -y tensorflow-gpu\n",
    "# 5. rm -rf ~/.keras\n",
    "# 6. 새로 킨 터미널을 껏다가 다시 킨다.\n",
    "# 7. pip install tensorflow==1.14\n",
    "# 8. pip install keras==2.2.5\n",
    "# 9. 터미널을 다시 껏다가 킨다.\n",
    "# 10. jupyter notebook을 구동시킨다."
   ]
  },
  {
   "cell_type": "code",
   "execution_count": 1,
   "metadata": {},
   "outputs": [
    {
     "name": "stderr",
     "output_type": "stream",
     "text": [
      "Using TensorFlow backend.\n",
      "/home/bitai/anaconda3/lib/python3.7/site-packages/tensorflow/python/framework/dtypes.py:516: FutureWarning: Passing (type, 1) or '1type' as a synonym of type is deprecated; in a future version of numpy, it will be understood as (type, (1,)) / '(1,)type'.\n",
      "  _np_qint8 = np.dtype([(\"qint8\", np.int8, 1)])\n",
      "/home/bitai/anaconda3/lib/python3.7/site-packages/tensorflow/python/framework/dtypes.py:517: FutureWarning: Passing (type, 1) or '1type' as a synonym of type is deprecated; in a future version of numpy, it will be understood as (type, (1,)) / '(1,)type'.\n",
      "  _np_quint8 = np.dtype([(\"quint8\", np.uint8, 1)])\n",
      "/home/bitai/anaconda3/lib/python3.7/site-packages/tensorflow/python/framework/dtypes.py:518: FutureWarning: Passing (type, 1) or '1type' as a synonym of type is deprecated; in a future version of numpy, it will be understood as (type, (1,)) / '(1,)type'.\n",
      "  _np_qint16 = np.dtype([(\"qint16\", np.int16, 1)])\n",
      "/home/bitai/anaconda3/lib/python3.7/site-packages/tensorflow/python/framework/dtypes.py:519: FutureWarning: Passing (type, 1) or '1type' as a synonym of type is deprecated; in a future version of numpy, it will be understood as (type, (1,)) / '(1,)type'.\n",
      "  _np_quint16 = np.dtype([(\"quint16\", np.uint16, 1)])\n",
      "/home/bitai/anaconda3/lib/python3.7/site-packages/tensorflow/python/framework/dtypes.py:520: FutureWarning: Passing (type, 1) or '1type' as a synonym of type is deprecated; in a future version of numpy, it will be understood as (type, (1,)) / '(1,)type'.\n",
      "  _np_qint32 = np.dtype([(\"qint32\", np.int32, 1)])\n",
      "/home/bitai/anaconda3/lib/python3.7/site-packages/tensorflow/python/framework/dtypes.py:525: FutureWarning: Passing (type, 1) or '1type' as a synonym of type is deprecated; in a future version of numpy, it will be understood as (type, (1,)) / '(1,)type'.\n",
      "  np_resource = np.dtype([(\"resource\", np.ubyte, 1)])\n",
      "/home/bitai/anaconda3/lib/python3.7/site-packages/tensorboard/compat/tensorflow_stub/dtypes.py:541: FutureWarning: Passing (type, 1) or '1type' as a synonym of type is deprecated; in a future version of numpy, it will be understood as (type, (1,)) / '(1,)type'.\n",
      "  _np_qint8 = np.dtype([(\"qint8\", np.int8, 1)])\n",
      "/home/bitai/anaconda3/lib/python3.7/site-packages/tensorboard/compat/tensorflow_stub/dtypes.py:542: FutureWarning: Passing (type, 1) or '1type' as a synonym of type is deprecated; in a future version of numpy, it will be understood as (type, (1,)) / '(1,)type'.\n",
      "  _np_quint8 = np.dtype([(\"quint8\", np.uint8, 1)])\n",
      "/home/bitai/anaconda3/lib/python3.7/site-packages/tensorboard/compat/tensorflow_stub/dtypes.py:543: FutureWarning: Passing (type, 1) or '1type' as a synonym of type is deprecated; in a future version of numpy, it will be understood as (type, (1,)) / '(1,)type'.\n",
      "  _np_qint16 = np.dtype([(\"qint16\", np.int16, 1)])\n",
      "/home/bitai/anaconda3/lib/python3.7/site-packages/tensorboard/compat/tensorflow_stub/dtypes.py:544: FutureWarning: Passing (type, 1) or '1type' as a synonym of type is deprecated; in a future version of numpy, it will be understood as (type, (1,)) / '(1,)type'.\n",
      "  _np_quint16 = np.dtype([(\"quint16\", np.uint16, 1)])\n",
      "/home/bitai/anaconda3/lib/python3.7/site-packages/tensorboard/compat/tensorflow_stub/dtypes.py:545: FutureWarning: Passing (type, 1) or '1type' as a synonym of type is deprecated; in a future version of numpy, it will be understood as (type, (1,)) / '(1,)type'.\n",
      "  _np_qint32 = np.dtype([(\"qint32\", np.int32, 1)])\n",
      "/home/bitai/anaconda3/lib/python3.7/site-packages/tensorboard/compat/tensorflow_stub/dtypes.py:550: FutureWarning: Passing (type, 1) or '1type' as a synonym of type is deprecated; in a future version of numpy, it will be understood as (type, (1,)) / '(1,)type'.\n",
      "  np_resource = np.dtype([(\"resource\", np.ubyte, 1)])\n"
     ]
    }
   ],
   "source": [
    "from keras.applications.vgg16 import decode_predictions\n",
    "from keras.applications.vgg16 import preprocess_input\n",
    "from keras.applications.resnet50 import ResNet50\n",
    "from keras.preprocessing import image\n",
    "\n",
    "import numpy as np"
   ]
  },
  {
   "cell_type": "code",
   "execution_count": 2,
   "metadata": {},
   "outputs": [],
   "source": [
    "def prepare_img(img, target):\n",
    "    img = img.resize(target)\n",
    "    img = img_to_array(img)\n",
    "    img = np.expand_dims(img, axis = 0)\n",
    "    img = imagenet_utils.preprocess_input(img)\n",
    "    \n",
    "    return img"
   ]
  },
  {
   "cell_type": "code",
   "execution_count": 3,
   "metadata": {},
   "outputs": [],
   "source": [
    "resModel = None\n",
    "\n",
    "def load_model():\n",
    "    global resModel\n",
    "    resModel = ResNet50()"
   ]
  },
  {
   "cell_type": "code",
   "execution_count": 4,
   "metadata": {},
   "outputs": [
    {
     "name": "stdout",
     "output_type": "stream",
     "text": [
      "1.14.0\n"
     ]
    }
   ],
   "source": [
    "import keras.backend.tensorflow_backend as tb\n",
    "import tensorflow as tf\n",
    "\n",
    "global graph, model\n",
    "graph = tf.get_default_graph()\n",
    "\n",
    "print(tf.__version__)"
   ]
  },
  {
   "cell_type": "code",
   "execution_count": null,
   "metadata": {},
   "outputs": [],
   "source": []
  }
 ],
 "metadata": {
  "kernelspec": {
   "display_name": "Python 3",
   "language": "python",
   "name": "python3"
  },
  "language_info": {
   "codemirror_mode": {
    "name": "ipython",
    "version": 3
   },
   "file_extension": ".py",
   "mimetype": "text/x-python",
   "name": "python",
   "nbconvert_exporter": "python",
   "pygments_lexer": "ipython3",
   "version": "3.7.6"
  }
 },
 "nbformat": 4,
 "nbformat_minor": 4
}
